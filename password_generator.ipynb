{
 "cells": [
  {
   "cell_type": "code",
   "execution_count": null,
   "id": "f290e569-017c-4037-9604-8bd98539fbd9",
   "metadata": {},
   "outputs": [],
   "source": [
    "import random\n",
    "import string\n",
    "\n",
    "def generate_password(length):\n",
    "    # Define the character sets for the password\n",
    "    letters = string.ascii_letters\n",
    "    digits = string.digits\n",
    "    punctuation = string.punctuation\n",
    "\n",
    "    # Combine all character sets\n",
    "    all_characters = letters + digits + punctuation\n",
    "\n",
    "    # Generate a random password\n",
    "    password = ''.join(random.choice(all_characters) for _ in range(length))\n",
    "\n",
    "    return password\n",
    "\n",
    "# Prompt the user for the password length\n",
    "try:\n",
    "    length = int(input(\"Enter the desired length of the password: \"))\n",
    "    if length < 1:\n",
    "        print(\"Password length should be at least 1.\")\n",
    "    else:\n",
    "        # Generate and display the password\n",
    "        password = generate_password(length)\n",
    "        print(f\"Generated Password: {password}\")\n",
    "except ValueError:\n",
    "    print(\"Invalid input. Please enter a valid integer for the length.\")\n"
   ]
  }
 ],
 "metadata": {
  "kernelspec": {
   "display_name": "Python 3 (ipykernel)",
   "language": "python",
   "name": "python3"
  },
  "language_info": {
   "codemirror_mode": {
    "name": "ipython",
    "version": 3
   },
   "file_extension": ".py",
   "mimetype": "text/x-python",
   "name": "python",
   "nbconvert_exporter": "python",
   "pygments_lexer": "ipython3",
   "version": "3.11.7"
  }
 },
 "nbformat": 4,
 "nbformat_minor": 5
}
